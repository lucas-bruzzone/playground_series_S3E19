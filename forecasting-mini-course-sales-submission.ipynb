{
 "cells": [
  {
   "cell_type": "code",
   "execution_count": 1,
   "id": "06c3e10c",
   "metadata": {
    "_cell_guid": "b1076dfc-b9ad-4769-8c92-a6c4dae69d19",
    "_uuid": "8f2839f25d086af736a60e9eeb907d3b93b6e0e5",
    "execution": {
     "iopub.execute_input": "2023-07-13T21:54:01.052613Z",
     "iopub.status.busy": "2023-07-13T21:54:01.051662Z",
     "iopub.status.idle": "2023-07-13T21:54:02.414145Z",
     "shell.execute_reply": "2023-07-13T21:54:02.413017Z"
    },
    "papermill": {
     "duration": 1.372381,
     "end_time": "2023-07-13T21:54:02.416430",
     "exception": false,
     "start_time": "2023-07-13T21:54:01.044049",
     "status": "completed"
    },
    "tags": []
   },
   "outputs": [
    {
     "name": "stderr",
     "output_type": "stream",
     "text": [
      "/opt/conda/lib/python3.10/site-packages/scipy/__init__.py:146: UserWarning: A NumPy version >=1.16.5 and <1.23.0 is required for this version of SciPy (detected version 1.23.5\n",
      "  warnings.warn(f\"A NumPy version >={np_minversion} and <{np_maxversion}\"\n"
     ]
    },
    {
     "data": {
      "text/plain": [
       "Index(['id', 'date', 'country', 'store', 'product', 'num_sold'], dtype='object')"
      ]
     },
     "execution_count": 1,
     "metadata": {},
     "output_type": "execute_result"
    }
   ],
   "source": [
    "# This Python 3 environment comes with many helpful analytics libraries installed\n",
    "# It is defined by the kaggle/python Docker image: https://github.com/kaggle/docker-python\n",
    "# For example, here's several helpful packages to load\n",
    "\n",
    "import numpy as np # linear algebra\n",
    "import pandas as pd # data processing, CSV file I/O (e.g. pd.read_csv)\n",
    "from sklearn.preprocessing import LabelEncoder\n",
    "# Input data files are available in the read-only \"../input/\" directory\n",
    "# For example, running this (by clicking run or pressing Shift+Enter) will list all files under the input directory\n",
    "\n",
    "from colorama import Style, Fore\n",
    "blk = Style.BRIGHT + Fore.BLACK\n",
    "red = Style.BRIGHT + Fore.RED\n",
    "blu = Style.BRIGHT + Fore.BLUE\n",
    "res = Style.RESET_ALL\n",
    "\n",
    "import os\n",
    "train = pd.read_csv('/kaggle/input/playground-series-s3e19/train.csv')\n",
    "test = pd.read_csv('/kaggle/input/playground-series-s3e19/test.csv')\n",
    "test['num_sold'] = float('nan') # this is dummy for simplify concat\n",
    "\n",
    "train.columns"
   ]
  },
  {
   "cell_type": "code",
   "execution_count": 2,
   "id": "ce3778bc",
   "metadata": {
    "execution": {
     "iopub.execute_input": "2023-07-13T21:54:02.428582Z",
     "iopub.status.busy": "2023-07-13T21:54:02.426850Z",
     "iopub.status.idle": "2023-07-13T21:54:02.489945Z",
     "shell.execute_reply": "2023-07-13T21:54:02.488981Z"
    },
    "papermill": {
     "duration": 0.071149,
     "end_time": "2023-07-13T21:54:02.492313",
     "exception": false,
     "start_time": "2023-07-13T21:54:02.421164",
     "status": "completed"
    },
    "tags": []
   },
   "outputs": [
    {
     "name": "stdout",
     "output_type": "stream",
     "text": [
      "['Argentina', 'Canada', 'Estonia', 'Japan', 'Spain']\n",
      "['Kaggle Learn', 'Kaggle Store', 'Kagglazon']\n",
      "['Using LLMs to Improve Your Coding', 'Using LLMs to Train More LLMs', 'Using LLMs to Win Friends and Influence People', 'Using LLMs to Win More Kaggle Competitions', 'Using LLMs to Write Better']\n"
     ]
    }
   ],
   "source": [
    "analysis = train\n",
    "uniques = {}\n",
    "\n",
    "for column in analysis.columns:\n",
    "    uniques[column] = analysis[column].unique().tolist()\n",
    "    if column not in ['date', 'num_sold','id']:\n",
    "        print(uniques[column])"
   ]
  },
  {
   "cell_type": "code",
   "execution_count": 3,
   "id": "8efe25f0",
   "metadata": {
    "execution": {
     "iopub.execute_input": "2023-07-13T21:54:02.503493Z",
     "iopub.status.busy": "2023-07-13T21:54:02.502892Z",
     "iopub.status.idle": "2023-07-13T21:54:02.558562Z",
     "shell.execute_reply": "2023-07-13T21:54:02.556967Z"
    },
    "papermill": {
     "duration": 0.063994,
     "end_time": "2023-07-13T21:54:02.561140",
     "exception": false,
     "start_time": "2023-07-13T21:54:02.497146",
     "status": "completed"
    },
    "tags": []
   },
   "outputs": [],
   "source": [
    "# To Datetime\n",
    "train['date'] = pd.to_datetime(train['date'])\n",
    "test['date'] = pd.to_datetime(test['date'])\n",
    "\n",
    "df = pd.concat([train, test], axis=0)\n"
   ]
  },
  {
   "cell_type": "code",
   "execution_count": 4,
   "id": "34096c77",
   "metadata": {
    "execution": {
     "iopub.execute_input": "2023-07-13T21:54:02.572313Z",
     "iopub.status.busy": "2023-07-13T21:54:02.571938Z",
     "iopub.status.idle": "2023-07-13T21:54:02.694022Z",
     "shell.execute_reply": "2023-07-13T21:54:02.692824Z"
    },
    "papermill": {
     "duration": 0.130534,
     "end_time": "2023-07-13T21:54:02.696546",
     "exception": false,
     "start_time": "2023-07-13T21:54:02.566012",
     "status": "completed"
    },
    "tags": []
   },
   "outputs": [],
   "source": [
    "le = LabelEncoder()\n",
    "cols = ['country', 'store', 'product']\n",
    "for col in cols:\n",
    "    df[col] = le.fit_transform(df[col])"
   ]
  },
  {
   "cell_type": "code",
   "execution_count": 5,
   "id": "46a61b21",
   "metadata": {
    "execution": {
     "iopub.execute_input": "2023-07-13T21:54:02.708373Z",
     "iopub.status.busy": "2023-07-13T21:54:02.707448Z",
     "iopub.status.idle": "2023-07-13T21:54:02.783438Z",
     "shell.execute_reply": "2023-07-13T21:54:02.782285Z"
    },
    "papermill": {
     "duration": 0.084579,
     "end_time": "2023-07-13T21:54:02.786113",
     "exception": false,
     "start_time": "2023-07-13T21:54:02.701534",
     "status": "completed"
    },
    "tags": []
   },
   "outputs": [],
   "source": [
    "import datetime as dt\n",
    "\n",
    "# date column is separated for each element\n",
    "df['day']   = df['date'].dt.day\n",
    "df['week' ] = df['date'].dt.dayofweek\n",
    "df['month'] = df['date'].dt.month\n",
    "df['year']  = df['date'].dt.year"
   ]
  },
  {
   "cell_type": "code",
   "execution_count": 6,
   "id": "6c9427a7",
   "metadata": {
    "execution": {
     "iopub.execute_input": "2023-07-13T21:54:02.798043Z",
     "iopub.status.busy": "2023-07-13T21:54:02.796983Z",
     "iopub.status.idle": "2023-07-13T21:54:02.817273Z",
     "shell.execute_reply": "2023-07-13T21:54:02.816198Z"
    },
    "papermill": {
     "duration": 0.028746,
     "end_time": "2023-07-13T21:54:02.819744",
     "exception": false,
     "start_time": "2023-07-13T21:54:02.790998",
     "status": "completed"
    },
    "tags": []
   },
   "outputs": [
    {
     "data": {
      "text/html": [
       "<div>\n",
       "<style scoped>\n",
       "    .dataframe tbody tr th:only-of-type {\n",
       "        vertical-align: middle;\n",
       "    }\n",
       "\n",
       "    .dataframe tbody tr th {\n",
       "        vertical-align: top;\n",
       "    }\n",
       "\n",
       "    .dataframe thead th {\n",
       "        text-align: right;\n",
       "    }\n",
       "</style>\n",
       "<table border=\"1\" class=\"dataframe\">\n",
       "  <thead>\n",
       "    <tr style=\"text-align: right;\">\n",
       "      <th></th>\n",
       "      <th>id</th>\n",
       "      <th>date</th>\n",
       "      <th>country</th>\n",
       "      <th>store</th>\n",
       "      <th>product</th>\n",
       "      <th>num_sold</th>\n",
       "      <th>day</th>\n",
       "      <th>week</th>\n",
       "      <th>month</th>\n",
       "      <th>year</th>\n",
       "    </tr>\n",
       "  </thead>\n",
       "  <tbody>\n",
       "    <tr>\n",
       "      <th>0</th>\n",
       "      <td>0</td>\n",
       "      <td>2017-01-01</td>\n",
       "      <td>0</td>\n",
       "      <td>1</td>\n",
       "      <td>0</td>\n",
       "      <td>63.0</td>\n",
       "      <td>1</td>\n",
       "      <td>6</td>\n",
       "      <td>1</td>\n",
       "      <td>2017</td>\n",
       "    </tr>\n",
       "    <tr>\n",
       "      <th>1</th>\n",
       "      <td>1</td>\n",
       "      <td>2017-01-01</td>\n",
       "      <td>0</td>\n",
       "      <td>1</td>\n",
       "      <td>1</td>\n",
       "      <td>66.0</td>\n",
       "      <td>1</td>\n",
       "      <td>6</td>\n",
       "      <td>1</td>\n",
       "      <td>2017</td>\n",
       "    </tr>\n",
       "    <tr>\n",
       "      <th>2</th>\n",
       "      <td>2</td>\n",
       "      <td>2017-01-01</td>\n",
       "      <td>0</td>\n",
       "      <td>1</td>\n",
       "      <td>2</td>\n",
       "      <td>9.0</td>\n",
       "      <td>1</td>\n",
       "      <td>6</td>\n",
       "      <td>1</td>\n",
       "      <td>2017</td>\n",
       "    </tr>\n",
       "    <tr>\n",
       "      <th>3</th>\n",
       "      <td>3</td>\n",
       "      <td>2017-01-01</td>\n",
       "      <td>0</td>\n",
       "      <td>1</td>\n",
       "      <td>3</td>\n",
       "      <td>59.0</td>\n",
       "      <td>1</td>\n",
       "      <td>6</td>\n",
       "      <td>1</td>\n",
       "      <td>2017</td>\n",
       "    </tr>\n",
       "    <tr>\n",
       "      <th>4</th>\n",
       "      <td>4</td>\n",
       "      <td>2017-01-01</td>\n",
       "      <td>0</td>\n",
       "      <td>1</td>\n",
       "      <td>4</td>\n",
       "      <td>49.0</td>\n",
       "      <td>1</td>\n",
       "      <td>6</td>\n",
       "      <td>1</td>\n",
       "      <td>2017</td>\n",
       "    </tr>\n",
       "  </tbody>\n",
       "</table>\n",
       "</div>"
      ],
      "text/plain": [
       "   id       date  country  store  product  num_sold  day  week  month  year\n",
       "0   0 2017-01-01        0      1        0      63.0    1     6      1  2017\n",
       "1   1 2017-01-01        0      1        1      66.0    1     6      1  2017\n",
       "2   2 2017-01-01        0      1        2       9.0    1     6      1  2017\n",
       "3   3 2017-01-01        0      1        3      59.0    1     6      1  2017\n",
       "4   4 2017-01-01        0      1        4      49.0    1     6      1  2017"
      ]
     },
     "execution_count": 6,
     "metadata": {},
     "output_type": "execute_result"
    }
   ],
   "source": [
    "df.head()"
   ]
  },
  {
   "cell_type": "code",
   "execution_count": 7,
   "id": "cec1b7e5",
   "metadata": {
    "execution": {
     "iopub.execute_input": "2023-07-13T21:54:02.833087Z",
     "iopub.status.busy": "2023-07-13T21:54:02.832731Z",
     "iopub.status.idle": "2023-07-13T21:54:02.907286Z",
     "shell.execute_reply": "2023-07-13T21:54:02.906306Z"
    },
    "papermill": {
     "duration": 0.083192,
     "end_time": "2023-07-13T21:54:02.909717",
     "exception": false,
     "start_time": "2023-07-13T21:54:02.826525",
     "status": "completed"
    },
    "tags": []
   },
   "outputs": [
    {
     "data": {
      "text/html": [
       "<div>\n",
       "<style scoped>\n",
       "    .dataframe tbody tr th:only-of-type {\n",
       "        vertical-align: middle;\n",
       "    }\n",
       "\n",
       "    .dataframe tbody tr th {\n",
       "        vertical-align: top;\n",
       "    }\n",
       "\n",
       "    .dataframe thead th {\n",
       "        text-align: right;\n",
       "    }\n",
       "</style>\n",
       "<table border=\"1\" class=\"dataframe\">\n",
       "  <thead>\n",
       "    <tr style=\"text-align: right;\">\n",
       "      <th></th>\n",
       "      <th>id</th>\n",
       "      <th>country</th>\n",
       "      <th>store</th>\n",
       "      <th>product</th>\n",
       "      <th>num_sold</th>\n",
       "      <th>day</th>\n",
       "      <th>week</th>\n",
       "      <th>month</th>\n",
       "      <th>year</th>\n",
       "      <th>month_sin</th>\n",
       "      <th>month_cos</th>\n",
       "      <th>day_sin</th>\n",
       "      <th>day_cos</th>\n",
       "    </tr>\n",
       "  </thead>\n",
       "  <tbody>\n",
       "    <tr>\n",
       "      <th>0</th>\n",
       "      <td>0</td>\n",
       "      <td>0</td>\n",
       "      <td>1</td>\n",
       "      <td>0</td>\n",
       "      <td>63.0</td>\n",
       "      <td>1</td>\n",
       "      <td>6</td>\n",
       "      <td>1</td>\n",
       "      <td>2017</td>\n",
       "      <td>0.5</td>\n",
       "      <td>0.866025</td>\n",
       "      <td>0.258819</td>\n",
       "      <td>0.965926</td>\n",
       "    </tr>\n",
       "    <tr>\n",
       "      <th>1</th>\n",
       "      <td>1</td>\n",
       "      <td>0</td>\n",
       "      <td>1</td>\n",
       "      <td>1</td>\n",
       "      <td>66.0</td>\n",
       "      <td>1</td>\n",
       "      <td>6</td>\n",
       "      <td>1</td>\n",
       "      <td>2017</td>\n",
       "      <td>0.5</td>\n",
       "      <td>0.866025</td>\n",
       "      <td>0.258819</td>\n",
       "      <td>0.965926</td>\n",
       "    </tr>\n",
       "    <tr>\n",
       "      <th>2</th>\n",
       "      <td>2</td>\n",
       "      <td>0</td>\n",
       "      <td>1</td>\n",
       "      <td>2</td>\n",
       "      <td>9.0</td>\n",
       "      <td>1</td>\n",
       "      <td>6</td>\n",
       "      <td>1</td>\n",
       "      <td>2017</td>\n",
       "      <td>0.5</td>\n",
       "      <td>0.866025</td>\n",
       "      <td>0.258819</td>\n",
       "      <td>0.965926</td>\n",
       "    </tr>\n",
       "    <tr>\n",
       "      <th>3</th>\n",
       "      <td>3</td>\n",
       "      <td>0</td>\n",
       "      <td>1</td>\n",
       "      <td>3</td>\n",
       "      <td>59.0</td>\n",
       "      <td>1</td>\n",
       "      <td>6</td>\n",
       "      <td>1</td>\n",
       "      <td>2017</td>\n",
       "      <td>0.5</td>\n",
       "      <td>0.866025</td>\n",
       "      <td>0.258819</td>\n",
       "      <td>0.965926</td>\n",
       "    </tr>\n",
       "    <tr>\n",
       "      <th>4</th>\n",
       "      <td>4</td>\n",
       "      <td>0</td>\n",
       "      <td>1</td>\n",
       "      <td>4</td>\n",
       "      <td>49.0</td>\n",
       "      <td>1</td>\n",
       "      <td>6</td>\n",
       "      <td>1</td>\n",
       "      <td>2017</td>\n",
       "      <td>0.5</td>\n",
       "      <td>0.866025</td>\n",
       "      <td>0.258819</td>\n",
       "      <td>0.965926</td>\n",
       "    </tr>\n",
       "  </tbody>\n",
       "</table>\n",
       "</div>"
      ],
      "text/plain": [
       "   id  country  store  product  num_sold  day  week  month  year  month_sin  \\\n",
       "0   0        0      1        0      63.0    1     6      1  2017        0.5   \n",
       "1   1        0      1        1      66.0    1     6      1  2017        0.5   \n",
       "2   2        0      1        2       9.0    1     6      1  2017        0.5   \n",
       "3   3        0      1        3      59.0    1     6      1  2017        0.5   \n",
       "4   4        0      1        4      49.0    1     6      1  2017        0.5   \n",
       "\n",
       "   month_cos   day_sin   day_cos  \n",
       "0   0.866025  0.258819  0.965926  \n",
       "1   0.866025  0.258819  0.965926  \n",
       "2   0.866025  0.258819  0.965926  \n",
       "3   0.866025  0.258819  0.965926  \n",
       "4   0.866025  0.258819  0.965926  "
      ]
     },
     "execution_count": 7,
     "metadata": {},
     "output_type": "execute_result"
    }
   ],
   "source": [
    "def seasonality_features(df_temp):\n",
    "    df_copy = df_temp.copy()  # Criar uma cópia do DataFrame\n",
    "    df_copy['month_sin'] = np.sin(2*np.pi*df_copy.month/12)\n",
    "    df_copy['month_cos'] = np.cos(2*np.pi*df_copy.month/12)\n",
    "    df_copy['day_sin'] = np.sin(2*np.pi*df_copy.day/24)\n",
    "    df_copy['day_cos'] = np.cos(2*np.pi*df_copy.day/24)\n",
    "    return df_copy\n",
    "\n",
    "df_modified = seasonality_features(df)\n",
    "\n",
    "df_modified = df_modified.drop('date', axis=1)\n",
    "df_modified.head()"
   ]
  },
  {
   "cell_type": "code",
   "execution_count": 8,
   "id": "31320d03",
   "metadata": {
    "execution": {
     "iopub.execute_input": "2023-07-13T21:54:02.921131Z",
     "iopub.status.busy": "2023-07-13T21:54:02.920781Z",
     "iopub.status.idle": "2023-07-13T21:54:03.104815Z",
     "shell.execute_reply": "2023-07-13T21:54:03.103595Z"
    },
    "papermill": {
     "duration": 0.192422,
     "end_time": "2023-07-13T21:54:03.107187",
     "exception": false,
     "start_time": "2023-07-13T21:54:02.914765",
     "status": "completed"
    },
    "tags": []
   },
   "outputs": [
    {
     "data": {
      "text/html": [
       "<style type=\"text/css\">\n",
       "#T_6be97 caption {\n",
       "  color: Blue;\n",
       "  font-size: 18px;\n",
       "  font-weight: bold;\n",
       "}\n",
       "#T_6be97_row0_col0, #T_6be97_row0_col1, #T_6be97_row0_col2, #T_6be97_row0_col3, #T_6be97_row0_col4, #T_6be97_row0_col5, #T_6be97_row0_col6, #T_6be97_row0_col7, #T_6be97_row0_col8, #T_6be97_row0_col9, #T_6be97_row0_col10, #T_6be97_row0_col11, #T_6be97_row0_col12, #T_6be97_row7_col0 {\n",
       "  background-color: #08306b;\n",
       "  color: #f1f1f1;\n",
       "}\n",
       "#T_6be97_row1_col0, #T_6be97_row5_col0 {\n",
       "  background-color: #6caed6;\n",
       "  color: #f1f1f1;\n",
       "}\n",
       "#T_6be97_row1_col1, #T_6be97_row1_col2, #T_6be97_row1_col3, #T_6be97_row1_col4, #T_6be97_row1_col5, #T_6be97_row1_col6, #T_6be97_row1_col7, #T_6be97_row1_col9, #T_6be97_row1_col10, #T_6be97_row1_col11, #T_6be97_row1_col12, #T_6be97_row2_col1, #T_6be97_row2_col2, #T_6be97_row2_col3, #T_6be97_row2_col4, #T_6be97_row2_col5, #T_6be97_row2_col6, #T_6be97_row2_col7, #T_6be97_row2_col8, #T_6be97_row2_col9, #T_6be97_row2_col10, #T_6be97_row2_col11, #T_6be97_row2_col12, #T_6be97_row3_col0, #T_6be97_row3_col1, #T_6be97_row3_col2, #T_6be97_row3_col3, #T_6be97_row3_col4, #T_6be97_row3_col5, #T_6be97_row3_col6, #T_6be97_row3_col7, #T_6be97_row3_col9, #T_6be97_row3_col10, #T_6be97_row3_col11, #T_6be97_row3_col12, #T_6be97_row4_col1, #T_6be97_row4_col2, #T_6be97_row4_col3, #T_6be97_row4_col4, #T_6be97_row4_col5, #T_6be97_row4_col6, #T_6be97_row4_col7, #T_6be97_row4_col9, #T_6be97_row4_col10, #T_6be97_row4_col11, #T_6be97_row4_col12, #T_6be97_row5_col1, #T_6be97_row5_col2, #T_6be97_row5_col3, #T_6be97_row5_col4, #T_6be97_row5_col5, #T_6be97_row5_col6, #T_6be97_row5_col7, #T_6be97_row5_col9, #T_6be97_row5_col10, #T_6be97_row5_col11, #T_6be97_row5_col12, #T_6be97_row6_col1, #T_6be97_row6_col2, #T_6be97_row6_col3, #T_6be97_row6_col4, #T_6be97_row6_col5, #T_6be97_row6_col6, #T_6be97_row6_col7, #T_6be97_row6_col9, #T_6be97_row6_col10, #T_6be97_row6_col11, #T_6be97_row6_col12, #T_6be97_row7_col1, #T_6be97_row7_col2, #T_6be97_row7_col3, #T_6be97_row7_col5, #T_6be97_row7_col6, #T_6be97_row7_col7, #T_6be97_row7_col9, #T_6be97_row7_col10, #T_6be97_row7_col11, #T_6be97_row7_col12 {\n",
       "  background-color: #f7fbff;\n",
       "  color: #000000;\n",
       "}\n",
       "#T_6be97_row1_col8, #T_6be97_row3_col8, #T_6be97_row4_col8, #T_6be97_row5_col8, #T_6be97_row6_col8, #T_6be97_row7_col8 {\n",
       "  background-color: #f5f9fe;\n",
       "  color: #000000;\n",
       "}\n",
       "#T_6be97_row2_col0 {\n",
       "  background-color: #bad6eb;\n",
       "  color: #000000;\n",
       "}\n",
       "#T_6be97_row4_col0 {\n",
       "  background-color: #c7dbef;\n",
       "  color: #000000;\n",
       "}\n",
       "#T_6be97_row6_col0 {\n",
       "  background-color: #2171b5;\n",
       "  color: #f1f1f1;\n",
       "}\n",
       "#T_6be97_row7_col4 {\n",
       "  background-color: #f5fafe;\n",
       "  color: #000000;\n",
       "}\n",
       "</style>\n",
       "<table id=\"T_6be97\">\n",
       "  <caption> Data : Summary Statistics</caption>\n",
       "  <thead>\n",
       "    <tr>\n",
       "      <th class=\"blank level0\" >&nbsp;</th>\n",
       "      <th id=\"T_6be97_level0_col0\" class=\"col_heading level0 col0\" >id</th>\n",
       "      <th id=\"T_6be97_level0_col1\" class=\"col_heading level0 col1\" >country</th>\n",
       "      <th id=\"T_6be97_level0_col2\" class=\"col_heading level0 col2\" >store</th>\n",
       "      <th id=\"T_6be97_level0_col3\" class=\"col_heading level0 col3\" >product</th>\n",
       "      <th id=\"T_6be97_level0_col4\" class=\"col_heading level0 col4\" >num_sold</th>\n",
       "      <th id=\"T_6be97_level0_col5\" class=\"col_heading level0 col5\" >day</th>\n",
       "      <th id=\"T_6be97_level0_col6\" class=\"col_heading level0 col6\" >week</th>\n",
       "      <th id=\"T_6be97_level0_col7\" class=\"col_heading level0 col7\" >month</th>\n",
       "      <th id=\"T_6be97_level0_col8\" class=\"col_heading level0 col8\" >year</th>\n",
       "      <th id=\"T_6be97_level0_col9\" class=\"col_heading level0 col9\" >month_sin</th>\n",
       "      <th id=\"T_6be97_level0_col10\" class=\"col_heading level0 col10\" >month_cos</th>\n",
       "      <th id=\"T_6be97_level0_col11\" class=\"col_heading level0 col11\" >day_sin</th>\n",
       "      <th id=\"T_6be97_level0_col12\" class=\"col_heading level0 col12\" >day_cos</th>\n",
       "    </tr>\n",
       "  </thead>\n",
       "  <tbody>\n",
       "    <tr>\n",
       "      <th id=\"T_6be97_level0_row0\" class=\"row_heading level0 row0\" >count</th>\n",
       "      <td id=\"T_6be97_row0_col0\" class=\"data row0 col0\" >164325.000000</td>\n",
       "      <td id=\"T_6be97_row0_col1\" class=\"data row0 col1\" >164325.000000</td>\n",
       "      <td id=\"T_6be97_row0_col2\" class=\"data row0 col2\" >164325.000000</td>\n",
       "      <td id=\"T_6be97_row0_col3\" class=\"data row0 col3\" >164325.000000</td>\n",
       "      <td id=\"T_6be97_row0_col4\" class=\"data row0 col4\" >136950.000000</td>\n",
       "      <td id=\"T_6be97_row0_col5\" class=\"data row0 col5\" >164325.000000</td>\n",
       "      <td id=\"T_6be97_row0_col6\" class=\"data row0 col6\" >164325.000000</td>\n",
       "      <td id=\"T_6be97_row0_col7\" class=\"data row0 col7\" >164325.000000</td>\n",
       "      <td id=\"T_6be97_row0_col8\" class=\"data row0 col8\" >164325.000000</td>\n",
       "      <td id=\"T_6be97_row0_col9\" class=\"data row0 col9\" >164325.000000</td>\n",
       "      <td id=\"T_6be97_row0_col10\" class=\"data row0 col10\" >164325.000000</td>\n",
       "      <td id=\"T_6be97_row0_col11\" class=\"data row0 col11\" >164325.000000</td>\n",
       "      <td id=\"T_6be97_row0_col12\" class=\"data row0 col12\" >164325.000000</td>\n",
       "    </tr>\n",
       "    <tr>\n",
       "      <th id=\"T_6be97_level0_row1\" class=\"row_heading level0 row1\" >mean</th>\n",
       "      <td id=\"T_6be97_row1_col0\" class=\"data row1 col0\" >82162.000000</td>\n",
       "      <td id=\"T_6be97_row1_col1\" class=\"data row1 col1\" >2.000000</td>\n",
       "      <td id=\"T_6be97_row1_col2\" class=\"data row1 col2\" >1.000000</td>\n",
       "      <td id=\"T_6be97_row1_col3\" class=\"data row1 col3\" >2.000000</td>\n",
       "      <td id=\"T_6be97_row1_col4\" class=\"data row1 col4\" >165.522636</td>\n",
       "      <td id=\"T_6be97_row1_col5\" class=\"data row1 col5\" >15.726609</td>\n",
       "      <td id=\"T_6be97_row1_col6\" class=\"data row1 col6\" >3.000000</td>\n",
       "      <td id=\"T_6be97_row1_col7\" class=\"data row1 col7\" >6.523962</td>\n",
       "      <td id=\"T_6be97_row1_col8\" class=\"data row1 col8\" >2019.500228</td>\n",
       "      <td id=\"T_6be97_row1_col9\" class=\"data row1 col9\" >-0.004983</td>\n",
       "      <td id=\"T_6be97_row1_col10\" class=\"data row1 col10\" >-0.002143</td>\n",
       "      <td id=\"T_6be97_row1_col11\" class=\"data row1 col11\" >0.154809</td>\n",
       "      <td id=\"T_6be97_row1_col12\" class=\"data row1 col12\" >0.102822</td>\n",
       "    </tr>\n",
       "    <tr>\n",
       "      <th id=\"T_6be97_level0_row2\" class=\"row_heading level0 row2\" >std</th>\n",
       "      <td id=\"T_6be97_row2_col0\" class=\"data row2 col0\" >47436.685830</td>\n",
       "      <td id=\"T_6be97_row2_col1\" class=\"data row2 col1\" >1.414218</td>\n",
       "      <td id=\"T_6be97_row2_col2\" class=\"data row2 col2\" >0.816499</td>\n",
       "      <td id=\"T_6be97_row2_col3\" class=\"data row2 col3\" >1.414218</td>\n",
       "      <td id=\"T_6be97_row2_col4\" class=\"data row2 col4\" >183.691575</td>\n",
       "      <td id=\"T_6be97_row2_col5\" class=\"data row2 col5\" >8.798839</td>\n",
       "      <td id=\"T_6be97_row2_col6\" class=\"data row2 col6\" >2.000006</td>\n",
       "      <td id=\"T_6be97_row2_col7\" class=\"data row2 col7\" >3.448430</td>\n",
       "      <td id=\"T_6be97_row2_col8\" class=\"data row2 col8\" >1.707474</td>\n",
       "      <td id=\"T_6be97_row2_col9\" class=\"data row2 col9\" >0.705718</td>\n",
       "      <td id=\"T_6be97_row2_col10\" class=\"data row2 col10\" >0.708476</td>\n",
       "      <td id=\"T_6be97_row2_col11\" class=\"data row2 col11\" >0.705982</td>\n",
       "      <td id=\"T_6be97_row2_col12\" class=\"data row2 col12\" >0.683415</td>\n",
       "    </tr>\n",
       "    <tr>\n",
       "      <th id=\"T_6be97_level0_row3\" class=\"row_heading level0 row3\" >min</th>\n",
       "      <td id=\"T_6be97_row3_col0\" class=\"data row3 col0\" >0.000000</td>\n",
       "      <td id=\"T_6be97_row3_col1\" class=\"data row3 col1\" >0.000000</td>\n",
       "      <td id=\"T_6be97_row3_col2\" class=\"data row3 col2\" >0.000000</td>\n",
       "      <td id=\"T_6be97_row3_col3\" class=\"data row3 col3\" >0.000000</td>\n",
       "      <td id=\"T_6be97_row3_col4\" class=\"data row3 col4\" >2.000000</td>\n",
       "      <td id=\"T_6be97_row3_col5\" class=\"data row3 col5\" >1.000000</td>\n",
       "      <td id=\"T_6be97_row3_col6\" class=\"data row3 col6\" >0.000000</td>\n",
       "      <td id=\"T_6be97_row3_col7\" class=\"data row3 col7\" >1.000000</td>\n",
       "      <td id=\"T_6be97_row3_col8\" class=\"data row3 col8\" >2017.000000</td>\n",
       "      <td id=\"T_6be97_row3_col9\" class=\"data row3 col9\" >-1.000000</td>\n",
       "      <td id=\"T_6be97_row3_col10\" class=\"data row3 col10\" >-1.000000</td>\n",
       "      <td id=\"T_6be97_row3_col11\" class=\"data row3 col11\" >-1.000000</td>\n",
       "      <td id=\"T_6be97_row3_col12\" class=\"data row3 col12\" >-1.000000</td>\n",
       "    </tr>\n",
       "    <tr>\n",
       "      <th id=\"T_6be97_level0_row4\" class=\"row_heading level0 row4\" >25%</th>\n",
       "      <td id=\"T_6be97_row4_col0\" class=\"data row4 col0\" >41081.000000</td>\n",
       "      <td id=\"T_6be97_row4_col1\" class=\"data row4 col1\" >1.000000</td>\n",
       "      <td id=\"T_6be97_row4_col2\" class=\"data row4 col2\" >0.000000</td>\n",
       "      <td id=\"T_6be97_row4_col3\" class=\"data row4 col3\" >1.000000</td>\n",
       "      <td id=\"T_6be97_row4_col4\" class=\"data row4 col4\" >46.000000</td>\n",
       "      <td id=\"T_6be97_row4_col5\" class=\"data row4 col5\" >8.000000</td>\n",
       "      <td id=\"T_6be97_row4_col6\" class=\"data row4 col6\" >1.000000</td>\n",
       "      <td id=\"T_6be97_row4_col7\" class=\"data row4 col7\" >4.000000</td>\n",
       "      <td id=\"T_6be97_row4_col8\" class=\"data row4 col8\" >2018.000000</td>\n",
       "      <td id=\"T_6be97_row4_col9\" class=\"data row4 col9\" >-0.866025</td>\n",
       "      <td id=\"T_6be97_row4_col10\" class=\"data row4 col10\" >-0.866025</td>\n",
       "      <td id=\"T_6be97_row4_col11\" class=\"data row4 col11\" >-0.500000</td>\n",
       "      <td id=\"T_6be97_row4_col12\" class=\"data row4 col12\" >-0.500000</td>\n",
       "    </tr>\n",
       "    <tr>\n",
       "      <th id=\"T_6be97_level0_row5\" class=\"row_heading level0 row5\" >50%</th>\n",
       "      <td id=\"T_6be97_row5_col0\" class=\"data row5 col0\" >82162.000000</td>\n",
       "      <td id=\"T_6be97_row5_col1\" class=\"data row5 col1\" >2.000000</td>\n",
       "      <td id=\"T_6be97_row5_col2\" class=\"data row5 col2\" >1.000000</td>\n",
       "      <td id=\"T_6be97_row5_col3\" class=\"data row5 col3\" >2.000000</td>\n",
       "      <td id=\"T_6be97_row5_col4\" class=\"data row5 col4\" >98.000000</td>\n",
       "      <td id=\"T_6be97_row5_col5\" class=\"data row5 col5\" >16.000000</td>\n",
       "      <td id=\"T_6be97_row5_col6\" class=\"data row5 col6\" >3.000000</td>\n",
       "      <td id=\"T_6be97_row5_col7\" class=\"data row5 col7\" >7.000000</td>\n",
       "      <td id=\"T_6be97_row5_col8\" class=\"data row5 col8\" >2020.000000</td>\n",
       "      <td id=\"T_6be97_row5_col9\" class=\"data row5 col9\" >-0.000000</td>\n",
       "      <td id=\"T_6be97_row5_col10\" class=\"data row5 col10\" >-0.000000</td>\n",
       "      <td id=\"T_6be97_row5_col11\" class=\"data row5 col11\" >0.258819</td>\n",
       "      <td id=\"T_6be97_row5_col12\" class=\"data row5 col12\" >0.258819</td>\n",
       "    </tr>\n",
       "    <tr>\n",
       "      <th id=\"T_6be97_level0_row6\" class=\"row_heading level0 row6\" >75%</th>\n",
       "      <td id=\"T_6be97_row6_col0\" class=\"data row6 col0\" >123243.000000</td>\n",
       "      <td id=\"T_6be97_row6_col1\" class=\"data row6 col1\" >3.000000</td>\n",
       "      <td id=\"T_6be97_row6_col2\" class=\"data row6 col2\" >2.000000</td>\n",
       "      <td id=\"T_6be97_row6_col3\" class=\"data row6 col3\" >3.000000</td>\n",
       "      <td id=\"T_6be97_row6_col4\" class=\"data row6 col4\" >184.000000</td>\n",
       "      <td id=\"T_6be97_row6_col5\" class=\"data row6 col5\" >23.000000</td>\n",
       "      <td id=\"T_6be97_row6_col6\" class=\"data row6 col6\" >5.000000</td>\n",
       "      <td id=\"T_6be97_row6_col7\" class=\"data row6 col7\" >10.000000</td>\n",
       "      <td id=\"T_6be97_row6_col8\" class=\"data row6 col8\" >2021.000000</td>\n",
       "      <td id=\"T_6be97_row6_col9\" class=\"data row6 col9\" >0.500000</td>\n",
       "      <td id=\"T_6be97_row6_col10\" class=\"data row6 col10\" >0.866025</td>\n",
       "      <td id=\"T_6be97_row6_col11\" class=\"data row6 col11\" >0.866025</td>\n",
       "      <td id=\"T_6be97_row6_col12\" class=\"data row6 col12\" >0.707107</td>\n",
       "    </tr>\n",
       "    <tr>\n",
       "      <th id=\"T_6be97_level0_row7\" class=\"row_heading level0 row7\" >max</th>\n",
       "      <td id=\"T_6be97_row7_col0\" class=\"data row7 col0\" >164324.000000</td>\n",
       "      <td id=\"T_6be97_row7_col1\" class=\"data row7 col1\" >4.000000</td>\n",
       "      <td id=\"T_6be97_row7_col2\" class=\"data row7 col2\" >2.000000</td>\n",
       "      <td id=\"T_6be97_row7_col3\" class=\"data row7 col3\" >4.000000</td>\n",
       "      <td id=\"T_6be97_row7_col4\" class=\"data row7 col4\" >1380.000000</td>\n",
       "      <td id=\"T_6be97_row7_col5\" class=\"data row7 col5\" >31.000000</td>\n",
       "      <td id=\"T_6be97_row7_col6\" class=\"data row7 col6\" >6.000000</td>\n",
       "      <td id=\"T_6be97_row7_col7\" class=\"data row7 col7\" >12.000000</td>\n",
       "      <td id=\"T_6be97_row7_col8\" class=\"data row7 col8\" >2022.000000</td>\n",
       "      <td id=\"T_6be97_row7_col9\" class=\"data row7 col9\" >1.000000</td>\n",
       "      <td id=\"T_6be97_row7_col10\" class=\"data row7 col10\" >1.000000</td>\n",
       "      <td id=\"T_6be97_row7_col11\" class=\"data row7 col11\" >1.000000</td>\n",
       "      <td id=\"T_6be97_row7_col12\" class=\"data row7 col12\" >1.000000</td>\n",
       "    </tr>\n",
       "  </tbody>\n",
       "</table>\n"
      ],
      "text/plain": [
       "<pandas.io.formats.style.Styler at 0x7e42ca07bd90>"
      ]
     },
     "metadata": {},
     "output_type": "display_data"
    }
   ],
   "source": [
    "def set_frame_style(df, caption=\"\"):\n",
    "    \"\"\"Helper function to set dataframe presentation style.\n",
    "    \"\"\"\n",
    "    return df.style.background_gradient(cmap='Blues').set_caption(caption).set_table_styles([{\n",
    "    'selector': 'caption',\n",
    "    'props': [\n",
    "        ('color', 'Blue'),\n",
    "        ('font-size', '18px'),\n",
    "        ('font-weight','bold')\n",
    "    ]}])\n",
    "\n",
    "\n",
    "display(set_frame_style(df_modified.describe(),' Data : Summary Statistics'))"
   ]
  },
  {
   "cell_type": "code",
   "execution_count": 9,
   "id": "7116bac6",
   "metadata": {
    "execution": {
     "iopub.execute_input": "2023-07-13T21:54:03.120824Z",
     "iopub.status.busy": "2023-07-13T21:54:03.119809Z",
     "iopub.status.idle": "2023-07-13T21:54:03.141216Z",
     "shell.execute_reply": "2023-07-13T21:54:03.140308Z"
    },
    "papermill": {
     "duration": 0.030814,
     "end_time": "2023-07-13T21:54:03.143698",
     "exception": false,
     "start_time": "2023-07-13T21:54:03.112884",
     "status": "completed"
    },
    "tags": []
   },
   "outputs": [],
   "source": [
    "# Separar o conjunto de treinamento e o conjunto de teste após o encoding\n",
    "df_train = df_modified.loc[~df_modified['num_sold'].isna()]\n",
    "df_test = df_modified.loc[df_modified['num_sold'].isna()]"
   ]
  },
  {
   "cell_type": "code",
   "execution_count": 10,
   "id": "d4164bba",
   "metadata": {
    "execution": {
     "iopub.execute_input": "2023-07-13T21:54:03.156771Z",
     "iopub.status.busy": "2023-07-13T21:54:03.156022Z",
     "iopub.status.idle": "2023-07-13T21:54:04.173618Z",
     "shell.execute_reply": "2023-07-13T21:54:04.172345Z"
    },
    "papermill": {
     "duration": 1.026683,
     "end_time": "2023-07-13T21:54:04.175982",
     "exception": false,
     "start_time": "2023-07-13T21:54:03.149299",
     "status": "completed"
    },
    "tags": []
   },
   "outputs": [
    {
     "data": {
      "image/png": "[encoded data removed]",
      "text/plain": [
       "<Figure size 640x480 with 2 Axes>"
      ]
     },
     "metadata": {},
     "output_type": "display_data"
    }
   ],
   "source": [
    "import seaborn as sns\n",
    "import matplotlib.pyplot as plt\n",
    "from sklearn.model_selection import cross_val_score\n",
    "\n",
    "\n",
    "corr = df_train.corr(numeric_only=True)\n",
    "target_corr = corr['num_sold'].drop('num_sold')\n",
    "\n",
    "# Sort correlation values in descending order\n",
    "target_corr_sorted = target_corr.sort_values(ascending=False)\n",
    "\n",
    "# Create a heatmap of the correlations with the target column\n",
    "sns.set(font_scale=0.8)\n",
    "sns.set_style(\"white\")\n",
    "sns.set_palette(\"PuBuGn_d\")\n",
    "sns.heatmap(target_corr_sorted.to_frame(), cmap=\"coolwarm\", annot=True, fmt='.2f')\n",
    "plt.title('Correlation with Total Cup Points')\n",
    "plt.show()"
   ]
  },
  {
   "cell_type": "code",
   "execution_count": 11,
   "id": "78d853e0",
   "metadata": {
    "execution": {
     "iopub.execute_input": "2023-07-13T21:54:04.191396Z",
     "iopub.status.busy": "2023-07-13T21:54:04.190113Z",
     "iopub.status.idle": "2023-07-13T21:54:05.139404Z",
     "shell.execute_reply": "2023-07-13T21:54:05.138226Z"
    },
    "papermill": {
     "duration": 0.959491,
     "end_time": "2023-07-13T21:54:05.141876",
     "exception": false,
     "start_time": "2023-07-13T21:54:04.182385",
     "status": "completed"
    },
    "tags": []
   },
   "outputs": [],
   "source": [
    "import optuna\n",
    "from sklearn.ensemble import RandomForestRegressor\n",
    "from sklearn.metrics import mean_squared_error\n",
    "from sklearn.model_selection import TimeSeriesSplit\n",
    "\n",
    "\n",
    "\n",
    "def objective(trial, df):\n",
    "    X = df.drop(['num_sold', 'id'], axis=1)\n",
    "    y = df['num_sold']\n",
    "    \n",
    "    # Definir o número de splits desejados\n",
    "    n_splits = 5\n",
    "\n",
    "    # Criar o objeto TimeSeriesSplit\n",
    "    tscv = TimeSeriesSplit(n_splits=n_splits)\n",
    "\n",
    "    # Variável para armazenar a soma das métricas de cada fold\n",
    "    total_smape = 0\n",
    "\n",
    "    # Loop pelos splits do TimeSeriesSplit\n",
    "    for train_index, val_index in tscv.split(X):\n",
    "        X_train, X_val = X.iloc[train_index], X.iloc[val_index]\n",
    "        y_train, y_val = y.iloc[train_index], y.iloc[val_index]\n",
    "\n",
    "        # Definir os hiperparâmetros a serem otimizados\n",
    "        params = {\n",
    "            'n_estimators': trial.suggest_int('n_estimators', 100, 1000),\n",
    "            'max_depth': trial.suggest_int('max_depth', 3, 15),\n",
    "            'min_samples_split': trial.suggest_int('min_samples_split', 2, 10),\n",
    "            'min_samples_leaf': trial.suggest_int('min_samples_leaf', 1, 5),\n",
    "            'random_state': 0\n",
    "        }\n",
    "\n",
    "        # Criar o modelo RandomForestRegressor com os hiperparâmetros definidos\n",
    "        model = RandomForestRegressor(**params)\n",
    "\n",
    "        # Treinar o modelo\n",
    "        model.fit(X_train, y_train)\n",
    "\n",
    "        # Prever os valores do conjunto de validação\n",
    "        y_pred = model.predict(X_val)\n",
    "\n",
    "        # Calcular a métrica de avaliação (SMAPE)\n",
    "        smape = calculate_smape(y_val, y_pred)\n",
    "\n",
    "        total_smape += smape\n",
    "\n",
    "    # Calcular a média das métricas dos folds\n",
    "    avg_smape = total_smape / n_splits\n",
    "\n",
    "    return avg_smape\n",
    "\n",
    "\n",
    "\n",
    "def calculate_smape(y_true, y_pred):\n",
    "    return 1 / len(y_true) * np.sum(2 * np.abs(y_pred - y_true) / (np.abs(y_pred) + np.abs(y_true)) * 100)\n",
    "\n"
   ]
  },
  {
   "cell_type": "code",
   "execution_count": 12,
   "id": "3b098dcb",
   "metadata": {
    "execution": {
     "iopub.execute_input": "2023-07-13T21:54:05.156401Z",
     "iopub.status.busy": "2023-07-13T21:54:05.155585Z",
     "iopub.status.idle": "2023-07-13T21:54:05.163379Z",
     "shell.execute_reply": "2023-07-13T21:54:05.162373Z"
    },
    "papermill": {
     "duration": 0.017439,
     "end_time": "2023-07-13T21:54:05.165557",
     "exception": false,
     "start_time": "2023-07-13T21:54:05.148118",
     "status": "completed"
    },
    "tags": []
   },
   "outputs": [],
   "source": [
    "def train_rf_regressor(df):\n",
    "    study = optuna.create_study(direction='minimize')\n",
    "    study.optimize(lambda trial: objective(trial, df), n_trials=3)\n",
    "\n",
    "    # Obter os melhores parâmetros encontrados\n",
    "    best_params = study.best_params\n",
    "    \n",
    "    X = df.drop('num_sold', axis=1)\n",
    "    y = df['num_sold']\n",
    "\n",
    "    # Criar o objeto TimeSeriesSplit\n",
    "    tscv = TimeSeriesSplit(n_splits=5)\n",
    "\n",
    "    # Lista para armazenar os modelos treinados\n",
    "    models = []\n",
    "\n",
    "    # Loop pelos splits do TimeSeriesSplit\n",
    "    for train_index, val_index in tscv.split(X):\n",
    "        X_train, X_val = X.iloc[train_index], X.iloc[val_index]\n",
    "        y_train, y_val = y.iloc[train_index], y.iloc[val_index]\n",
    "\n",
    "        # Treinar um novo modelo usando os melhores parâmetros\n",
    "        model = RandomForestRegressor(**best_params)\n",
    "        model.fit(X_train, y_train)\n",
    "\n",
    "        models.append(model)\n",
    "\n",
    "    return models\n"
   ]
  },
  {
   "cell_type": "code",
   "execution_count": 13,
   "id": "c718e5a3",
   "metadata": {
    "execution": {
     "iopub.execute_input": "2023-07-13T21:54:05.179980Z",
     "iopub.status.busy": "2023-07-13T21:54:05.179033Z",
     "iopub.status.idle": "2023-07-13T22:37:11.942684Z",
     "shell.execute_reply": "2023-07-13T22:37:11.941304Z"
    },
    "papermill": {
     "duration": 2586.773919,
     "end_time": "2023-07-13T22:37:11.945729",
     "exception": false,
     "start_time": "2023-07-13T21:54:05.171810",
     "status": "completed"
    },
    "tags": []
   },
   "outputs": [
    {
     "name": "stderr",
     "output_type": "stream",
     "text": [
      "[I 2023-07-13 21:54:05,181] A new study created in memory with name: no-name-2551e26b-b739-4f5c-b91c-67af7ad7e7a3\n",
      "[I 2023-07-13 22:00:40,596] Trial 0 finished with value: 12.30799194985527 and parameters: {'n_estimators': 612, 'max_depth': 11, 'min_samples_split': 3, 'min_samples_leaf': 5}. Best is trial 0 with value: 12.30799194985527.\n",
      "[I 2023-07-13 22:08:26,931] Trial 1 finished with value: 12.229263269396576 and parameters: {'n_estimators': 615, 'max_depth': 13, 'min_samples_split': 4, 'min_samples_leaf': 4}. Best is trial 1 with value: 12.229263269396576.\n",
      "[I 2023-07-13 22:20:42,392] Trial 2 finished with value: 12.217417594532966 and parameters: {'n_estimators': 865, 'max_depth': 14, 'min_samples_split': 3, 'min_samples_leaf': 2}. Best is trial 2 with value: 12.217417594532966.\n"
     ]
    }
   ],
   "source": [
    "best_model = train_rf_regressor(df_train)"
   ]
  },
  {
   "cell_type": "code",
   "execution_count": 14,
   "id": "b4bdaa91",
   "metadata": {
    "execution": {
     "iopub.execute_input": "2023-07-13T22:37:11.960941Z",
     "iopub.status.busy": "2023-07-13T22:37:11.960525Z",
     "iopub.status.idle": "2023-07-13T22:37:11.967418Z",
     "shell.execute_reply": "2023-07-13T22:37:11.966340Z"
    },
    "papermill": {
     "duration": 0.016947,
     "end_time": "2023-07-13T22:37:11.969640",
     "exception": false,
     "start_time": "2023-07-13T22:37:11.952693",
     "status": "completed"
    },
    "tags": []
   },
   "outputs": [],
   "source": [
    "df_test = df_test.drop(['num_sold'], axis=1)"
   ]
  },
  {
   "cell_type": "code",
   "execution_count": 15,
   "id": "092e7292",
   "metadata": {
    "execution": {
     "iopub.execute_input": "2023-07-13T22:37:11.984170Z",
     "iopub.status.busy": "2023-07-13T22:37:11.983739Z",
     "iopub.status.idle": "2023-07-13T22:37:27.632137Z",
     "shell.execute_reply": "2023-07-13T22:37:27.630813Z"
    },
    "papermill": {
     "duration": 15.658649,
     "end_time": "2023-07-13T22:37:27.634725",
     "exception": false,
     "start_time": "2023-07-13T22:37:11.976076",
     "status": "completed"
    },
    "tags": []
   },
   "outputs": [],
   "source": [
    "divisor = 4  # Escolha o divisor desejado\n",
    "\n",
    "sample_submission = pd.read_csv('/kaggle/input/playground-series-s3e19/sample_submission.csv')\n",
    "\n",
    "# Loop pelos modelos treinados\n",
    "for model in best_model:\n",
    "    # Fazer previsões para o modelo atual\n",
    "    predictions = model.predict(df_test)\n",
    "\n",
    "    # Dividir as previsões pelo divisor escolhido\n",
    "    predictions /= divisor\n",
    "\n",
    "    # Adicionar as previsões do modelo atual ao DataFrame de submissão\n",
    "    sample_submission['num_sold'] += predictions\n",
    "\n",
    "# Salvar o DataFrame em um arquivo CSV\n",
    "sample_submission.to_csv('submission.csv', index=False)\n"
   ]
  },
  {
   "cell_type": "code",
   "execution_count": null,
   "id": "6b4c623f",
   "metadata": {
    "papermill": {
     "duration": 0.006135,
     "end_time": "2023-07-13T22:37:27.647437",
     "exception": false,
     "start_time": "2023-07-13T22:37:27.641302",
     "status": "completed"
    },
    "tags": []
   },
   "outputs": [],
   "source": []
  }
 ],
 "metadata": {
  "kernelspec": {
   "display_name": "Python 3",
   "language": "python",
   "name": "python3"
  },
  "language_info": {
   "codemirror_mode": {
    "name": "ipython",
    "version": 3
   },
   "file_extension": ".py",
   "mimetype": "text/x-python",
   "name": "python",
   "nbconvert_exporter": "python",
   "pygments_lexer": "ipython3",
   "version": "3.10.12"
  },
  "papermill": {
   "default_parameters": {},
   "duration": 2617.445661,
   "end_time": "2023-07-13T22:37:29.082964",
   "environment_variables": {},
   "exception": null,
   "input_path": "__notebook__.ipynb",
   "output_path": "__notebook__.ipynb",
   "parameters": {},
   "start_time": "2023-07-13T21:53:51.637303",
   "version": "2.4.0"
  }
 },
 "nbformat": 4,
 "nbformat_minor": 5
}
