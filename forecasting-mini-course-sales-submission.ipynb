{
 "cells": [
  {
   "cell_type": "code",
   "execution_count": 1,
   "id": "3457f272",
   "metadata": {
    "_cell_guid": "b1076dfc-b9ad-4769-8c92-a6c4dae69d19",
    "_uuid": "8f2839f25d086af736a60e9eeb907d3b93b6e0e5",
    "execution": {
     "iopub.execute_input": "2023-07-14T20:47:09.434277Z",
     "iopub.status.busy": "2023-07-14T20:47:09.433862Z",
     "iopub.status.idle": "2023-07-14T20:47:10.775713Z",
     "shell.execute_reply": "2023-07-14T20:47:10.774232Z"
    },
    "papermill": {
     "duration": 1.350932,
     "end_time": "2023-07-14T20:47:10.778337",
     "exception": false,
     "start_time": "2023-07-14T20:47:09.427405",
     "status": "completed"
    },
    "tags": []
   },
   "outputs": [
    {
     "name": "stderr",
     "output_type": "stream",
     "text": [
      "/opt/conda/lib/python3.10/site-packages/scipy/__init__.py:146: UserWarning: A NumPy version >=1.16.5 and <1.23.0 is required for this version of SciPy (detected version 1.23.5\n",
      "  warnings.warn(f\"A NumPy version >={np_minversion} and <{np_maxversion}\"\n"
     ]
    },
    {
     "data": {
      "text/plain": [
       "Index(['id', 'date', 'country', 'store', 'product', 'num_sold'], dtype='object')"
      ]
     },
     "execution_count": 1,
     "metadata": {},
     "output_type": "execute_result"
    }
   ],
   "source": [
    "# This Python 3 environment comes with many helpful analytics libraries installed\n",
    "# It is defined by the kaggle/python Docker image: https://github.com/kaggle/docker-python\n",
    "# For example, here's several helpful packages to load\n",
    "\n",
    "import numpy as np # linear algebra\n",
    "import pandas as pd # data processing, CSV file I/O (e.g. pd.read_csv)\n",
    "from sklearn.preprocessing import LabelEncoder\n",
    "# Input data files are available in the read-only \"../input/\" directory\n",
    "# For example, running this (by clicking run or pressing Shift+Enter) will list all files under the input directory\n",
    "\n",
    "from colorama import Style, Fore\n",
    "blk = Style.BRIGHT + Fore.BLACK\n",
    "red = Style.BRIGHT + Fore.RED\n",
    "blu = Style.BRIGHT + Fore.BLUE\n",
    "res = Style.RESET_ALL\n",
    "\n",
    "import os\n",
    "train = pd.read_csv('/kaggle/input/playground-series-s3e19/train.csv')\n",
    "test = pd.read_csv('/kaggle/input/playground-series-s3e19/test.csv')\n",
    "test['num_sold'] = float('nan') # this is dummy for simplify concat\n",
    "\n",
    "train.columns"
   ]
  },
  {
   "cell_type": "code",
   "execution_count": 2,
   "id": "e2b45e3e",
   "metadata": {
    "execution": {
     "iopub.execute_input": "2023-07-14T20:47:10.788508Z",
     "iopub.status.busy": "2023-07-14T20:47:10.788137Z",
     "iopub.status.idle": "2023-07-14T20:47:10.843742Z",
     "shell.execute_reply": "2023-07-14T20:47:10.842162Z"
    },
    "papermill": {
     "duration": 0.063907,
     "end_time": "2023-07-14T20:47:10.846875",
     "exception": false,
     "start_time": "2023-07-14T20:47:10.782968",
     "status": "completed"
    },
    "tags": []
   },
   "outputs": [
    {
     "name": "stdout",
     "output_type": "stream",
     "text": [
      "['Argentina', 'Canada', 'Estonia', 'Japan', 'Spain']\n",
      "['Kaggle Learn', 'Kaggle Store', 'Kagglazon']\n",
      "['Using LLMs to Improve Your Coding', 'Using LLMs to Train More LLMs', 'Using LLMs to Win Friends and Influence People', 'Using LLMs to Win More Kaggle Competitions', 'Using LLMs to Write Better']\n"
     ]
    }
   ],
   "source": [
    "analysis = train\n",
    "uniques = {}\n",
    "\n",
    "for column in analysis.columns:\n",
    "    uniques[column] = analysis[column].unique().tolist()\n",
    "    if column not in ['date', 'num_sold','id']:\n",
    "        print(uniques[column])"
   ]
  },
  {
   "cell_type": "code",
   "execution_count": 3,
   "id": "274a4fcd",
   "metadata": {
    "execution": {
     "iopub.execute_input": "2023-07-14T20:47:10.859504Z",
     "iopub.status.busy": "2023-07-14T20:47:10.858936Z",
     "iopub.status.idle": "2023-07-14T20:47:10.906354Z",
     "shell.execute_reply": "2023-07-14T20:47:10.904976Z"
    },
    "papermill": {
     "duration": 0.056632,
     "end_time": "2023-07-14T20:47:10.908503",
     "exception": false,
     "start_time": "2023-07-14T20:47:10.851871",
     "status": "completed"
    },
    "tags": []
   },
   "outputs": [],
   "source": [
    "# To Datetime\n",
    "train['date'] = pd.to_datetime(train['date'])\n",
    "test['date'] = pd.to_datetime(test['date'])\n",
    "\n",
    "df = pd.concat([train, test], axis=0)\n"
   ]
  },
  {
   "cell_type": "code",
   "execution_count": 4,
   "id": "616cbb33",
   "metadata": {
    "execution": {
     "iopub.execute_input": "2023-07-14T20:47:10.919495Z",
     "iopub.status.busy": "2023-07-14T20:47:10.919073Z",
     "iopub.status.idle": "2023-07-14T20:47:11.029842Z",
     "shell.execute_reply": "2023-07-14T20:47:11.028691Z"
    },
    "papermill": {
     "duration": 0.118546,
     "end_time": "2023-07-14T20:47:11.032266",
     "exception": false,
     "start_time": "2023-07-14T20:47:10.913720",
     "status": "completed"
    },
    "tags": []
   },
   "outputs": [],
   "source": [
    "le = LabelEncoder()\n",
    "cols = ['country', 'store', 'product']\n",
    "for col in cols:\n",
    "    df[col] = le.fit_transform(df[col])"
   ]
  },
  {
   "cell_type": "code",
   "execution_count": 5,
   "id": "396ed526",
   "metadata": {
    "execution": {
     "iopub.execute_input": "2023-07-14T20:47:11.042361Z",
     "iopub.status.busy": "2023-07-14T20:47:11.042017Z",
     "iopub.status.idle": "2023-07-14T20:47:11.070533Z",
     "shell.execute_reply": "2023-07-14T20:47:11.069247Z"
    },
    "papermill": {
     "duration": 0.036141,
     "end_time": "2023-07-14T20:47:11.072899",
     "exception": false,
     "start_time": "2023-07-14T20:47:11.036758",
     "status": "completed"
    },
    "tags": []
   },
   "outputs": [],
   "source": [
    "import datetime as dt\n",
    "\n",
    "# date column is separated for each element\n",
    "df['day']   = df['date'].dt.day\n",
    "df['week' ] = df['date'].dt.dayofweek\n",
    "df['month'] = df['date'].dt.month\n",
    "df['year']  = df['date'].dt.year"
   ]
  },
  {
   "cell_type": "code",
   "execution_count": 6,
   "id": "26d4396d",
   "metadata": {
    "execution": {
     "iopub.execute_input": "2023-07-14T20:47:11.083157Z",
     "iopub.status.busy": "2023-07-14T20:47:11.082784Z",
     "iopub.status.idle": "2023-07-14T20:47:11.101869Z",
     "shell.execute_reply": "2023-07-14T20:47:11.100974Z"
    },
    "papermill": {
     "duration": 0.026309,
     "end_time": "2023-07-14T20:47:11.103822",
     "exception": false,
     "start_time": "2023-07-14T20:47:11.077513",
     "status": "completed"
    },
    "tags": []
   },
   "outputs": [
    {
     "data": {
      "text/html": [
       "<div>\n",
       "<style scoped>\n",
       "    .dataframe tbody tr th:only-of-type {\n",
       "        vertical-align: middle;\n",
       "    }\n",
       "\n",
       "    .dataframe tbody tr th {\n",
       "        vertical-align: top;\n",
       "    }\n",
       "\n",
       "    .dataframe thead th {\n",
       "        text-align: right;\n",
       "    }\n",
       "</style>\n",
       "<table border=\"1\" class=\"dataframe\">\n",
       "  <thead>\n",
       "    <tr style=\"text-align: right;\">\n",
       "      <th></th>\n",
       "      <th>id</th>\n",
       "      <th>date</th>\n",
       "      <th>country</th>\n",
       "      <th>store</th>\n",
       "      <th>product</th>\n",
       "      <th>num_sold</th>\n",
       "      <th>day</th>\n",
       "      <th>week</th>\n",
       "      <th>month</th>\n",
       "      <th>year</th>\n",
       "    </tr>\n",
       "  </thead>\n",
       "  <tbody>\n",
       "    <tr>\n",
       "      <th>0</th>\n",
       "      <td>0</td>\n",
       "      <td>2017-01-01</td>\n",
       "      <td>0</td>\n",
       "      <td>1</td>\n",
       "      <td>0</td>\n",
       "      <td>63.0</td>\n",
       "      <td>1</td>\n",
       "      <td>6</td>\n",
       "      <td>1</td>\n",
       "      <td>2017</td>\n",
       "    </tr>\n",
       "    <tr>\n",
       "      <th>1</th>\n",
       "      <td>1</td>\n",
       "      <td>2017-01-01</td>\n",
       "      <td>0</td>\n",
       "      <td>1</td>\n",
       "      <td>1</td>\n",
       "      <td>66.0</td>\n",
       "      <td>1</td>\n",
       "      <td>6</td>\n",
       "      <td>1</td>\n",
       "      <td>2017</td>\n",
       "    </tr>\n",
       "    <tr>\n",
       "      <th>2</th>\n",
       "      <td>2</td>\n",
       "      <td>2017-01-01</td>\n",
       "      <td>0</td>\n",
       "      <td>1</td>\n",
       "      <td>2</td>\n",
       "      <td>9.0</td>\n",
       "      <td>1</td>\n",
       "      <td>6</td>\n",
       "      <td>1</td>\n",
       "      <td>2017</td>\n",
       "    </tr>\n",
       "    <tr>\n",
       "      <th>3</th>\n",
       "      <td>3</td>\n",
       "      <td>2017-01-01</td>\n",
       "      <td>0</td>\n",
       "      <td>1</td>\n",
       "      <td>3</td>\n",
       "      <td>59.0</td>\n",
       "      <td>1</td>\n",
       "      <td>6</td>\n",
       "      <td>1</td>\n",
       "      <td>2017</td>\n",
       "    </tr>\n",
       "    <tr>\n",
       "      <th>4</th>\n",
       "      <td>4</td>\n",
       "      <td>2017-01-01</td>\n",
       "      <td>0</td>\n",
       "      <td>1</td>\n",
       "      <td>4</td>\n",
       "      <td>49.0</td>\n",
       "      <td>1</td>\n",
       "      <td>6</td>\n",
       "      <td>1</td>\n",
       "      <td>2017</td>\n",
       "    </tr>\n",
       "  </tbody>\n",
       "</table>\n",
       "</div>"
      ],
      "text/plain": [
       "   id       date  country  store  product  num_sold  day  week  month  year\n",
       "0   0 2017-01-01        0      1        0      63.0    1     6      1  2017\n",
       "1   1 2017-01-01        0      1        1      66.0    1     6      1  2017\n",
       "2   2 2017-01-01        0      1        2       9.0    1     6      1  2017\n",
       "3   3 2017-01-01        0      1        3      59.0    1     6      1  2017\n",
       "4   4 2017-01-01        0      1        4      49.0    1     6      1  2017"
      ]
     },
     "execution_count": 6,
     "metadata": {},
     "output_type": "execute_result"
    }
   ],
   "source": [
    "df.head()"
   ]
  },
  {
   "cell_type": "code",
   "execution_count": 7,
   "id": "e777c465",
   "metadata": {
    "execution": {
     "iopub.execute_input": "2023-07-14T20:47:11.119333Z",
     "iopub.status.busy": "2023-07-14T20:47:11.118981Z",
     "iopub.status.idle": "2023-07-14T20:47:11.169665Z",
     "shell.execute_reply": "2023-07-14T20:47:11.168632Z"
    },
    "papermill": {
     "duration": 0.061257,
     "end_time": "2023-07-14T20:47:11.172198",
     "exception": false,
     "start_time": "2023-07-14T20:47:11.110941",
     "status": "completed"
    },
    "tags": []
   },
   "outputs": [],
   "source": [
    "def seasonality_features(df_temp):\n",
    "    df_copy = df_temp.copy()  # Criar uma cópia do DataFrame\n",
    "    df_copy['month_sin'] = np.sin(2*np.pi*df_copy.month/12)\n",
    "    df_copy['month_cos'] = np.cos(2*np.pi*df_copy.month/12)\n",
    "    df_copy['day_sin'] = np.sin(2*np.pi*df_copy.day/24)\n",
    "    df_copy['day_cos'] = np.cos(2*np.pi*df_copy.day/24)\n",
    "    return df_copy\n",
    "\n",
    "df_modified = seasonality_features(df)\n",
    "\n",
    "df_modified = df_modified.drop('date', axis=1)\n",
    "df_modified = df_modified[df_modified['year'] != 2020]\n"
   ]
  },
  {
   "cell_type": "code",
   "execution_count": 8,
   "id": "9e2a41ea",
   "metadata": {
    "execution": {
     "iopub.execute_input": "2023-07-14T20:47:11.183262Z",
     "iopub.status.busy": "2023-07-14T20:47:11.182534Z",
     "iopub.status.idle": "2023-07-14T20:47:11.327721Z",
     "shell.execute_reply": "2023-07-14T20:47:11.326330Z"
    },
    "papermill": {
     "duration": 0.153043,
     "end_time": "2023-07-14T20:47:11.329823",
     "exception": false,
     "start_time": "2023-07-14T20:47:11.176780",
     "status": "completed"
    },
    "tags": []
   },
   "outputs": [
    {
     "data": {
      "text/html": [
       "<style type=\"text/css\">\n",
       "#T_b9130 caption {\n",
       "  color: Blue;\n",
       "  font-size: 18px;\n",
       "  font-weight: bold;\n",
       "}\n",
       "#T_b9130_row0_col0 {\n",
       "  background-color: #105ba4;\n",
       "  color: #f1f1f1;\n",
       "}\n",
       "#T_b9130_row0_col1, #T_b9130_row0_col2, #T_b9130_row0_col3, #T_b9130_row0_col4, #T_b9130_row0_col5, #T_b9130_row0_col6, #T_b9130_row0_col7, #T_b9130_row0_col8, #T_b9130_row0_col9, #T_b9130_row0_col10, #T_b9130_row0_col11, #T_b9130_row0_col12, #T_b9130_row7_col0 {\n",
       "  background-color: #08306b;\n",
       "  color: #f1f1f1;\n",
       "}\n",
       "#T_b9130_row1_col0 {\n",
       "  background-color: #72b2d8;\n",
       "  color: #f1f1f1;\n",
       "}\n",
       "#T_b9130_row1_col1, #T_b9130_row1_col2, #T_b9130_row1_col3, #T_b9130_row1_col4, #T_b9130_row1_col5, #T_b9130_row1_col6, #T_b9130_row1_col7, #T_b9130_row1_col9, #T_b9130_row1_col10, #T_b9130_row1_col11, #T_b9130_row1_col12, #T_b9130_row2_col1, #T_b9130_row2_col2, #T_b9130_row2_col3, #T_b9130_row2_col4, #T_b9130_row2_col5, #T_b9130_row2_col6, #T_b9130_row2_col7, #T_b9130_row2_col8, #T_b9130_row2_col9, #T_b9130_row2_col10, #T_b9130_row2_col11, #T_b9130_row2_col12, #T_b9130_row3_col0, #T_b9130_row3_col1, #T_b9130_row3_col2, #T_b9130_row3_col3, #T_b9130_row3_col4, #T_b9130_row3_col5, #T_b9130_row3_col6, #T_b9130_row3_col7, #T_b9130_row3_col9, #T_b9130_row3_col10, #T_b9130_row3_col11, #T_b9130_row3_col12, #T_b9130_row4_col1, #T_b9130_row4_col2, #T_b9130_row4_col3, #T_b9130_row4_col4, #T_b9130_row4_col5, #T_b9130_row4_col6, #T_b9130_row4_col7, #T_b9130_row4_col9, #T_b9130_row4_col10, #T_b9130_row4_col11, #T_b9130_row4_col12, #T_b9130_row5_col1, #T_b9130_row5_col2, #T_b9130_row5_col3, #T_b9130_row5_col4, #T_b9130_row5_col5, #T_b9130_row5_col6, #T_b9130_row5_col7, #T_b9130_row5_col9, #T_b9130_row5_col10, #T_b9130_row5_col11, #T_b9130_row5_col12, #T_b9130_row6_col1, #T_b9130_row6_col2, #T_b9130_row6_col3, #T_b9130_row6_col4, #T_b9130_row6_col5, #T_b9130_row6_col6, #T_b9130_row6_col7, #T_b9130_row6_col9, #T_b9130_row6_col10, #T_b9130_row6_col11, #T_b9130_row6_col12, #T_b9130_row7_col1, #T_b9130_row7_col2, #T_b9130_row7_col3, #T_b9130_row7_col5, #T_b9130_row7_col6, #T_b9130_row7_col7, #T_b9130_row7_col9, #T_b9130_row7_col10, #T_b9130_row7_col11, #T_b9130_row7_col12 {\n",
       "  background-color: #f7fbff;\n",
       "  color: #000000;\n",
       "}\n",
       "#T_b9130_row1_col8, #T_b9130_row3_col8, #T_b9130_row4_col8, #T_b9130_row5_col8, #T_b9130_row6_col8, #T_b9130_row7_col4, #T_b9130_row7_col8 {\n",
       "  background-color: #f5f9fe;\n",
       "  color: #000000;\n",
       "}\n",
       "#T_b9130_row2_col0 {\n",
       "  background-color: #b2d2e8;\n",
       "  color: #000000;\n",
       "}\n",
       "#T_b9130_row4_col0 {\n",
       "  background-color: #cee0f2;\n",
       "  color: #000000;\n",
       "}\n",
       "#T_b9130_row5_col0 {\n",
       "  background-color: #8dc1dd;\n",
       "  color: #000000;\n",
       "}\n",
       "#T_b9130_row6_col0 {\n",
       "  background-color: #1966ad;\n",
       "  color: #f1f1f1;\n",
       "}\n",
       "</style>\n",
       "<table id=\"T_b9130\">\n",
       "  <caption> Data : Summary Statistics</caption>\n",
       "  <thead>\n",
       "    <tr>\n",
       "      <th class=\"blank level0\" >&nbsp;</th>\n",
       "      <th id=\"T_b9130_level0_col0\" class=\"col_heading level0 col0\" >id</th>\n",
       "      <th id=\"T_b9130_level0_col1\" class=\"col_heading level0 col1\" >country</th>\n",
       "      <th id=\"T_b9130_level0_col2\" class=\"col_heading level0 col2\" >store</th>\n",
       "      <th id=\"T_b9130_level0_col3\" class=\"col_heading level0 col3\" >product</th>\n",
       "      <th id=\"T_b9130_level0_col4\" class=\"col_heading level0 col4\" >num_sold</th>\n",
       "      <th id=\"T_b9130_level0_col5\" class=\"col_heading level0 col5\" >day</th>\n",
       "      <th id=\"T_b9130_level0_col6\" class=\"col_heading level0 col6\" >week</th>\n",
       "      <th id=\"T_b9130_level0_col7\" class=\"col_heading level0 col7\" >month</th>\n",
       "      <th id=\"T_b9130_level0_col8\" class=\"col_heading level0 col8\" >year</th>\n",
       "      <th id=\"T_b9130_level0_col9\" class=\"col_heading level0 col9\" >month_sin</th>\n",
       "      <th id=\"T_b9130_level0_col10\" class=\"col_heading level0 col10\" >month_cos</th>\n",
       "      <th id=\"T_b9130_level0_col11\" class=\"col_heading level0 col11\" >day_sin</th>\n",
       "      <th id=\"T_b9130_level0_col12\" class=\"col_heading level0 col12\" >day_cos</th>\n",
       "    </tr>\n",
       "  </thead>\n",
       "  <tbody>\n",
       "    <tr>\n",
       "      <th id=\"T_b9130_level0_row0\" class=\"row_heading level0 row0\" >count</th>\n",
       "      <td id=\"T_b9130_row0_col0\" class=\"data row0 col0\" >136875.000000</td>\n",
       "      <td id=\"T_b9130_row0_col1\" class=\"data row0 col1\" >136875.000000</td>\n",
       "      <td id=\"T_b9130_row0_col2\" class=\"data row0 col2\" >136875.000000</td>\n",
       "      <td id=\"T_b9130_row0_col3\" class=\"data row0 col3\" >136875.000000</td>\n",
       "      <td id=\"T_b9130_row0_col4\" class=\"data row0 col4\" >109500.000000</td>\n",
       "      <td id=\"T_b9130_row0_col5\" class=\"data row0 col5\" >136875.000000</td>\n",
       "      <td id=\"T_b9130_row0_col6\" class=\"data row0 col6\" >136875.000000</td>\n",
       "      <td id=\"T_b9130_row0_col7\" class=\"data row0 col7\" >136875.000000</td>\n",
       "      <td id=\"T_b9130_row0_col8\" class=\"data row0 col8\" >136875.000000</td>\n",
       "      <td id=\"T_b9130_row0_col9\" class=\"data row0 col9\" >136875.000000</td>\n",
       "      <td id=\"T_b9130_row0_col10\" class=\"data row0 col10\" >136875.000000</td>\n",
       "      <td id=\"T_b9130_row0_col11\" class=\"data row0 col11\" >136875.000000</td>\n",
       "      <td id=\"T_b9130_row0_col12\" class=\"data row0 col12\" >136875.000000</td>\n",
       "    </tr>\n",
       "    <tr>\n",
       "      <th id=\"T_b9130_level0_row1\" class=\"row_heading level0 row1\" >mean</th>\n",
       "      <td id=\"T_b9130_row1_col0\" class=\"data row1 col0\" >79417.000000</td>\n",
       "      <td id=\"T_b9130_row1_col1\" class=\"data row1 col1\" >2.000000</td>\n",
       "      <td id=\"T_b9130_row1_col2\" class=\"data row1 col2\" >1.000000</td>\n",
       "      <td id=\"T_b9130_row1_col3\" class=\"data row1 col3\" >2.000000</td>\n",
       "      <td id=\"T_b9130_row1_col4\" class=\"data row1 col4\" >169.697050</td>\n",
       "      <td id=\"T_b9130_row1_col5\" class=\"data row1 col5\" >15.720548</td>\n",
       "      <td id=\"T_b9130_row1_col6\" class=\"data row1 col6\" >3.000548</td>\n",
       "      <td id=\"T_b9130_row1_col7\" class=\"data row1 col7\" >6.526027</td>\n",
       "      <td id=\"T_b9130_row1_col8\" class=\"data row1 col8\" >2019.400000</td>\n",
       "      <td id=\"T_b9130_row1_col9\" class=\"data row1 col9\" >-0.005381</td>\n",
       "      <td id=\"T_b9130_row1_col10\" class=\"data row1 col10\" >-0.002373</td>\n",
       "      <td id=\"T_b9130_row1_col11\" class=\"data row1 col11\" >0.154439</td>\n",
       "      <td id=\"T_b9130_row1_col12\" class=\"data row1 col12\" >0.102751</td>\n",
       "    </tr>\n",
       "    <tr>\n",
       "      <th id=\"T_b9130_level0_row2\" class=\"row_heading level0 row2\" >std</th>\n",
       "      <td id=\"T_b9130_row2_col0\" class=\"data row2 col0\" >51418.118249</td>\n",
       "      <td id=\"T_b9130_row2_col1\" class=\"data row2 col1\" >1.414219</td>\n",
       "      <td id=\"T_b9130_row2_col2\" class=\"data row2 col2\" >0.816500</td>\n",
       "      <td id=\"T_b9130_row2_col3\" class=\"data row2 col3\" >1.414219</td>\n",
       "      <td id=\"T_b9130_row2_col4\" class=\"data row2 col4\" >187.115025</td>\n",
       "      <td id=\"T_b9130_row2_col5\" class=\"data row2 col5\" >8.796279</td>\n",
       "      <td id=\"T_b9130_row2_col6\" class=\"data row2 col6\" >2.000966</td>\n",
       "      <td id=\"T_b9130_row2_col7\" class=\"data row2 col7\" >3.447864</td>\n",
       "      <td id=\"T_b9130_row2_col8\" class=\"data row2 col8\" >1.854730</td>\n",
       "      <td id=\"T_b9130_row2_col9\" class=\"data row2 col9\" >0.705634</td>\n",
       "      <td id=\"T_b9130_row2_col10\" class=\"data row2 col10\" >0.708557</td>\n",
       "      <td id=\"T_b9130_row2_col11\" class=\"data row2 col11\" >0.705931</td>\n",
       "      <td id=\"T_b9130_row2_col12\" class=\"data row2 col12\" >0.683564</td>\n",
       "    </tr>\n",
       "    <tr>\n",
       "      <th id=\"T_b9130_level0_row3\" class=\"row_heading level0 row3\" >min</th>\n",
       "      <td id=\"T_b9130_row3_col0\" class=\"data row3 col0\" >0.000000</td>\n",
       "      <td id=\"T_b9130_row3_col1\" class=\"data row3 col1\" >0.000000</td>\n",
       "      <td id=\"T_b9130_row3_col2\" class=\"data row3 col2\" >0.000000</td>\n",
       "      <td id=\"T_b9130_row3_col3\" class=\"data row3 col3\" >0.000000</td>\n",
       "      <td id=\"T_b9130_row3_col4\" class=\"data row3 col4\" >3.000000</td>\n",
       "      <td id=\"T_b9130_row3_col5\" class=\"data row3 col5\" >1.000000</td>\n",
       "      <td id=\"T_b9130_row3_col6\" class=\"data row3 col6\" >0.000000</td>\n",
       "      <td id=\"T_b9130_row3_col7\" class=\"data row3 col7\" >1.000000</td>\n",
       "      <td id=\"T_b9130_row3_col8\" class=\"data row3 col8\" >2017.000000</td>\n",
       "      <td id=\"T_b9130_row3_col9\" class=\"data row3 col9\" >-1.000000</td>\n",
       "      <td id=\"T_b9130_row3_col10\" class=\"data row3 col10\" >-1.000000</td>\n",
       "      <td id=\"T_b9130_row3_col11\" class=\"data row3 col11\" >-1.000000</td>\n",
       "      <td id=\"T_b9130_row3_col12\" class=\"data row3 col12\" >-1.000000</td>\n",
       "    </tr>\n",
       "    <tr>\n",
       "      <th id=\"T_b9130_level0_row4\" class=\"row_heading level0 row4\" >25%</th>\n",
       "      <td id=\"T_b9130_row4_col0\" class=\"data row4 col0\" >34218.500000</td>\n",
       "      <td id=\"T_b9130_row4_col1\" class=\"data row4 col1\" >1.000000</td>\n",
       "      <td id=\"T_b9130_row4_col2\" class=\"data row4 col2\" >0.000000</td>\n",
       "      <td id=\"T_b9130_row4_col3\" class=\"data row4 col3\" >1.000000</td>\n",
       "      <td id=\"T_b9130_row4_col4\" class=\"data row4 col4\" >47.000000</td>\n",
       "      <td id=\"T_b9130_row4_col5\" class=\"data row4 col5\" >8.000000</td>\n",
       "      <td id=\"T_b9130_row4_col6\" class=\"data row4 col6\" >1.000000</td>\n",
       "      <td id=\"T_b9130_row4_col7\" class=\"data row4 col7\" >4.000000</td>\n",
       "      <td id=\"T_b9130_row4_col8\" class=\"data row4 col8\" >2018.000000</td>\n",
       "      <td id=\"T_b9130_row4_col9\" class=\"data row4 col9\" >-0.866025</td>\n",
       "      <td id=\"T_b9130_row4_col10\" class=\"data row4 col10\" >-0.866025</td>\n",
       "      <td id=\"T_b9130_row4_col11\" class=\"data row4 col11\" >-0.500000</td>\n",
       "      <td id=\"T_b9130_row4_col12\" class=\"data row4 col12\" >-0.500000</td>\n",
       "    </tr>\n",
       "    <tr>\n",
       "      <th id=\"T_b9130_level0_row5\" class=\"row_heading level0 row5\" >50%</th>\n",
       "      <td id=\"T_b9130_row5_col0\" class=\"data row5 col0\" >68437.000000</td>\n",
       "      <td id=\"T_b9130_row5_col1\" class=\"data row5 col1\" >2.000000</td>\n",
       "      <td id=\"T_b9130_row5_col2\" class=\"data row5 col2\" >1.000000</td>\n",
       "      <td id=\"T_b9130_row5_col3\" class=\"data row5 col3\" >2.000000</td>\n",
       "      <td id=\"T_b9130_row5_col4\" class=\"data row5 col4\" >100.000000</td>\n",
       "      <td id=\"T_b9130_row5_col5\" class=\"data row5 col5\" >16.000000</td>\n",
       "      <td id=\"T_b9130_row5_col6\" class=\"data row5 col6\" >3.000000</td>\n",
       "      <td id=\"T_b9130_row5_col7\" class=\"data row5 col7\" >7.000000</td>\n",
       "      <td id=\"T_b9130_row5_col8\" class=\"data row5 col8\" >2019.000000</td>\n",
       "      <td id=\"T_b9130_row5_col9\" class=\"data row5 col9\" >-0.000000</td>\n",
       "      <td id=\"T_b9130_row5_col10\" class=\"data row5 col10\" >-0.000000</td>\n",
       "      <td id=\"T_b9130_row5_col11\" class=\"data row5 col11\" >0.258819</td>\n",
       "      <td id=\"T_b9130_row5_col12\" class=\"data row5 col12\" >0.258819</td>\n",
       "    </tr>\n",
       "    <tr>\n",
       "      <th id=\"T_b9130_level0_row6\" class=\"row_heading level0 row6\" >75%</th>\n",
       "      <td id=\"T_b9130_row6_col0\" class=\"data row6 col0\" >130105.500000</td>\n",
       "      <td id=\"T_b9130_row6_col1\" class=\"data row6 col1\" >3.000000</td>\n",
       "      <td id=\"T_b9130_row6_col2\" class=\"data row6 col2\" >2.000000</td>\n",
       "      <td id=\"T_b9130_row6_col3\" class=\"data row6 col3\" >3.000000</td>\n",
       "      <td id=\"T_b9130_row6_col4\" class=\"data row6 col4\" >188.000000</td>\n",
       "      <td id=\"T_b9130_row6_col5\" class=\"data row6 col5\" >23.000000</td>\n",
       "      <td id=\"T_b9130_row6_col6\" class=\"data row6 col6\" >5.000000</td>\n",
       "      <td id=\"T_b9130_row6_col7\" class=\"data row6 col7\" >10.000000</td>\n",
       "      <td id=\"T_b9130_row6_col8\" class=\"data row6 col8\" >2021.000000</td>\n",
       "      <td id=\"T_b9130_row6_col9\" class=\"data row6 col9\" >0.500000</td>\n",
       "      <td id=\"T_b9130_row6_col10\" class=\"data row6 col10\" >0.866025</td>\n",
       "      <td id=\"T_b9130_row6_col11\" class=\"data row6 col11\" >0.866025</td>\n",
       "      <td id=\"T_b9130_row6_col12\" class=\"data row6 col12\" >0.707107</td>\n",
       "    </tr>\n",
       "    <tr>\n",
       "      <th id=\"T_b9130_level0_row7\" class=\"row_heading level0 row7\" >max</th>\n",
       "      <td id=\"T_b9130_row7_col0\" class=\"data row7 col0\" >164324.000000</td>\n",
       "      <td id=\"T_b9130_row7_col1\" class=\"data row7 col1\" >4.000000</td>\n",
       "      <td id=\"T_b9130_row7_col2\" class=\"data row7 col2\" >2.000000</td>\n",
       "      <td id=\"T_b9130_row7_col3\" class=\"data row7 col3\" >4.000000</td>\n",
       "      <td id=\"T_b9130_row7_col4\" class=\"data row7 col4\" >1380.000000</td>\n",
       "      <td id=\"T_b9130_row7_col5\" class=\"data row7 col5\" >31.000000</td>\n",
       "      <td id=\"T_b9130_row7_col6\" class=\"data row7 col6\" >6.000000</td>\n",
       "      <td id=\"T_b9130_row7_col7\" class=\"data row7 col7\" >12.000000</td>\n",
       "      <td id=\"T_b9130_row7_col8\" class=\"data row7 col8\" >2022.000000</td>\n",
       "      <td id=\"T_b9130_row7_col9\" class=\"data row7 col9\" >1.000000</td>\n",
       "      <td id=\"T_b9130_row7_col10\" class=\"data row7 col10\" >1.000000</td>\n",
       "      <td id=\"T_b9130_row7_col11\" class=\"data row7 col11\" >1.000000</td>\n",
       "      <td id=\"T_b9130_row7_col12\" class=\"data row7 col12\" >1.000000</td>\n",
       "    </tr>\n",
       "  </tbody>\n",
       "</table>\n"
      ],
      "text/plain": [
       "<pandas.io.formats.style.Styler at 0x7eee956f0490>"
      ]
     },
     "metadata": {},
     "output_type": "display_data"
    }
   ],
   "source": [
    "def set_frame_style(df, caption=\"\"):\n",
    "    \"\"\"Helper function to set dataframe presentation style.\n",
    "    \"\"\"\n",
    "    return df.style.background_gradient(cmap='Blues').set_caption(caption).set_table_styles([{\n",
    "    'selector': 'caption',\n",
    "    'props': [\n",
    "        ('color', 'Blue'),\n",
    "        ('font-size', '18px'),\n",
    "        ('font-weight','bold')\n",
    "    ]}])\n",
    "\n",
    "\n",
    "display(set_frame_style(df_modified.describe(),' Data : Summary Statistics'))"
   ]
  },
  {
   "cell_type": "code",
   "execution_count": 9,
   "id": "3b7d676d",
   "metadata": {
    "execution": {
     "iopub.execute_input": "2023-07-14T20:47:11.341549Z",
     "iopub.status.busy": "2023-07-14T20:47:11.341157Z",
     "iopub.status.idle": "2023-07-14T20:47:11.353130Z",
     "shell.execute_reply": "2023-07-14T20:47:11.351768Z"
    },
    "papermill": {
     "duration": 0.020653,
     "end_time": "2023-07-14T20:47:11.355581",
     "exception": false,
     "start_time": "2023-07-14T20:47:11.334928",
     "status": "completed"
    },
    "tags": []
   },
   "outputs": [],
   "source": [
    "# Separar o conjunto de treinamento e o conjunto de teste após o encoding\n",
    "df_train = df_modified.loc[~df_modified['num_sold'].isna()]\n",
    "df_test = df_modified.loc[df_modified['num_sold'].isna()]"
   ]
  },
  {
   "cell_type": "code",
   "execution_count": 10,
   "id": "ca06e8fe",
   "metadata": {
    "execution": {
     "iopub.execute_input": "2023-07-14T20:47:11.367519Z",
     "iopub.status.busy": "2023-07-14T20:47:11.366530Z",
     "iopub.status.idle": "2023-07-14T20:47:12.276244Z",
     "shell.execute_reply": "2023-07-14T20:47:12.274370Z"
    },
    "papermill": {
     "duration": 0.918086,
     "end_time": "2023-07-14T20:47:12.278587",
     "exception": false,
     "start_time": "2023-07-14T20:47:11.360501",
     "status": "completed"
    },
    "tags": []
   },
   "outputs": [
    {
     "data": {
      "image/png": "[encoded data removed]",
      "text/plain": [
       "<Figure size 640x480 with 2 Axes>"
      ]
     },
     "metadata": {},
     "output_type": "display_data"
    }
   ],
   "source": [
    "import seaborn as sns\n",
    "import matplotlib.pyplot as plt\n",
    "from sklearn.model_selection import cross_val_score\n",
    "\n",
    "\n",
    "corr = df_train.corr(numeric_only=True)\n",
    "target_corr = corr['num_sold'].drop('num_sold')\n",
    "\n",
    "# Sort correlation values in descending order\n",
    "target_corr_sorted = target_corr.sort_values(ascending=False)\n",
    "\n",
    "# Create a heatmap of the correlations with the target column\n",
    "sns.set(font_scale=0.8)\n",
    "sns.set_style(\"white\")\n",
    "sns.set_palette(\"PuBuGn_d\")\n",
    "sns.heatmap(target_corr_sorted.to_frame(), cmap=\"coolwarm\", annot=True, fmt='.2f')\n",
    "plt.title('Correlation with Total Cup Points')\n",
    "plt.show()"
   ]
  },
  {
   "cell_type": "code",
   "execution_count": 11,
   "id": "63fa8206",
   "metadata": {
    "execution": {
     "iopub.execute_input": "2023-07-14T20:47:12.290460Z",
     "iopub.status.busy": "2023-07-14T20:47:12.290008Z",
     "iopub.status.idle": "2023-07-14T20:47:13.242828Z",
     "shell.execute_reply": "2023-07-14T20:47:13.241635Z"
    },
    "papermill": {
     "duration": 0.961465,
     "end_time": "2023-07-14T20:47:13.245169",
     "exception": false,
     "start_time": "2023-07-14T20:47:12.283704",
     "status": "completed"
    },
    "tags": []
   },
   "outputs": [],
   "source": [
    "import optuna\n",
    "from sklearn.ensemble import RandomForestRegressor\n",
    "from sklearn.metrics import mean_squared_error\n",
    "from sklearn.model_selection import TimeSeriesSplit\n",
    "\n",
    "\n",
    "\n",
    "def objective(trial, df):\n",
    "    X = df.drop(['num_sold', 'id'], axis=1)\n",
    "    y = df['num_sold']\n",
    "    \n",
    "    # Definir o número de splits desejados\n",
    "    n_splits = 5\n",
    "\n",
    "    # Criar o objeto TimeSeriesSplit\n",
    "    tscv = TimeSeriesSplit(n_splits=n_splits)\n",
    "\n",
    "    # Variável para armazenar a soma das métricas de cada fold\n",
    "    total_smape = 0\n",
    "\n",
    "    # Loop pelos splits do TimeSeriesSplit\n",
    "    for train_index, val_index in tscv.split(X):\n",
    "        X_train, X_val = X.iloc[train_index], X.iloc[val_index]\n",
    "        y_train, y_val = y.iloc[train_index], y.iloc[val_index]\n",
    "\n",
    "        # Definir os hiperparâmetros a serem otimizados\n",
    "        params = {\n",
    "            'n_estimators': trial.suggest_int('n_estimators', 100, 1000),\n",
    "            'max_depth': trial.suggest_int('max_depth', 3, 15),\n",
    "            'min_samples_split': trial.suggest_int('min_samples_split', 2, 10),\n",
    "            'min_samples_leaf': trial.suggest_int('min_samples_leaf', 1, 5),\n",
    "            'random_state': 0\n",
    "        }\n",
    "\n",
    "        # Criar o modelo RandomForestRegressor com os hiperparâmetros definidos\n",
    "        model = RandomForestRegressor(**params)\n",
    "\n",
    "        # Treinar o modelo\n",
    "        model.fit(X_train, y_train)\n",
    "\n",
    "        # Prever os valores do conjunto de validação\n",
    "        y_pred = model.predict(X_val)\n",
    "\n",
    "        # Calcular a métrica de avaliação (SMAPE)\n",
    "        smape = calculate_smape(y_val, y_pred)\n",
    "\n",
    "        total_smape += smape\n",
    "\n",
    "    # Calcular a média das métricas dos folds\n",
    "    avg_smape = total_smape / n_splits\n",
    "\n",
    "    return avg_smape\n",
    "\n",
    "\n",
    "\n",
    "def calculate_smape(y_true, y_pred):\n",
    "    return 1 / len(y_true) * np.sum(2 * np.abs(y_pred - y_true) / (np.abs(y_pred) + np.abs(y_true)) * 100)\n",
    "\n"
   ]
  },
  {
   "cell_type": "code",
   "execution_count": 12,
   "id": "7c92d730",
   "metadata": {
    "execution": {
     "iopub.execute_input": "2023-07-14T20:47:13.257281Z",
     "iopub.status.busy": "2023-07-14T20:47:13.256926Z",
     "iopub.status.idle": "2023-07-14T20:47:13.264238Z",
     "shell.execute_reply": "2023-07-14T20:47:13.263015Z"
    },
    "papermill": {
     "duration": 0.015859,
     "end_time": "2023-07-14T20:47:13.266211",
     "exception": false,
     "start_time": "2023-07-14T20:47:13.250352",
     "status": "completed"
    },
    "tags": []
   },
   "outputs": [],
   "source": [
    "def train_rf_regressor(df):\n",
    "    study = optuna.create_study(direction='minimize')\n",
    "    study.optimize(lambda trial: objective(trial, df), n_trials=3)\n",
    "\n",
    "    # Obter os melhores parâmetros encontrados\n",
    "    best_params = study.best_params\n",
    "    \n",
    "    X = df.drop('num_sold', axis=1)\n",
    "    y = df['num_sold']\n",
    "\n",
    "    # Criar o objeto TimeSeriesSplit\n",
    "    tscv = TimeSeriesSplit(n_splits=5)\n",
    "\n",
    "    # Lista para armazenar os modelos treinados\n",
    "    models = []\n",
    "\n",
    "    # Loop pelos splits do TimeSeriesSplit\n",
    "    for train_index, val_index in tscv.split(X):\n",
    "        X_train, X_val = X.iloc[train_index], X.iloc[val_index]\n",
    "        y_train, y_val = y.iloc[train_index], y.iloc[val_index]\n",
    "\n",
    "        # Treinar um novo modelo usando os melhores parâmetros\n",
    "        model = RandomForestRegressor(**best_params)\n",
    "        model.fit(X_train, y_train)\n",
    "\n",
    "        models.append(model)\n",
    "\n",
    "    return models\n"
   ]
  },
  {
   "cell_type": "code",
   "execution_count": 13,
   "id": "39915b53",
   "metadata": {
    "execution": {
     "iopub.execute_input": "2023-07-14T20:47:13.277930Z",
     "iopub.status.busy": "2023-07-14T20:47:13.277543Z",
     "iopub.status.idle": "2023-07-14T21:02:52.808114Z",
     "shell.execute_reply": "2023-07-14T21:02:52.806760Z"
    },
    "papermill": {
     "duration": 939.539121,
     "end_time": "2023-07-14T21:02:52.810735",
     "exception": false,
     "start_time": "2023-07-14T20:47:13.271614",
     "status": "completed"
    },
    "tags": []
   },
   "outputs": [
    {
     "name": "stderr",
     "output_type": "stream",
     "text": [
      "[I 2023-07-14 20:47:13,279] A new study created in memory with name: no-name-7fc87616-72f4-4c0f-8385-3e7ddc120576\n",
      "[I 2023-07-14 20:52:21,008] Trial 0 finished with value: 9.586193045984782 and parameters: {'n_estimators': 522, 'max_depth': 14, 'min_samples_split': 7, 'min_samples_leaf': 5}. Best is trial 0 with value: 9.586193045984782.\n",
      "[I 2023-07-14 20:53:55,823] Trial 1 finished with value: 48.05176813811844 and parameters: {'n_estimators': 631, 'max_depth': 3, 'min_samples_split': 8, 'min_samples_leaf': 4}. Best is trial 0 with value: 9.586193045984782.\n",
      "[I 2023-07-14 20:56:19,034] Trial 2 finished with value: 9.638885834870809 and parameters: {'n_estimators': 254, 'max_depth': 13, 'min_samples_split': 4, 'min_samples_leaf': 4}. Best is trial 0 with value: 9.586193045984782.\n"
     ]
    }
   ],
   "source": [
    "best_model = train_rf_regressor(df_train)"
   ]
  },
  {
   "cell_type": "code",
   "execution_count": 14,
   "id": "7452ca6d",
   "metadata": {
    "execution": {
     "iopub.execute_input": "2023-07-14T21:02:52.824127Z",
     "iopub.status.busy": "2023-07-14T21:02:52.823742Z",
     "iopub.status.idle": "2023-07-14T21:02:52.830767Z",
     "shell.execute_reply": "2023-07-14T21:02:52.828881Z"
    },
    "papermill": {
     "duration": 0.017419,
     "end_time": "2023-07-14T21:02:52.833514",
     "exception": false,
     "start_time": "2023-07-14T21:02:52.816095",
     "status": "completed"
    },
    "tags": []
   },
   "outputs": [],
   "source": [
    "df_test = df_test.drop(['num_sold'], axis=1)"
   ]
  },
  {
   "cell_type": "code",
   "execution_count": 15,
   "id": "5a32d820",
   "metadata": {
    "execution": {
     "iopub.execute_input": "2023-07-14T21:02:52.847693Z",
     "iopub.status.busy": "2023-07-14T21:02:52.847305Z",
     "iopub.status.idle": "2023-07-14T21:02:57.051655Z",
     "shell.execute_reply": "2023-07-14T21:02:57.050055Z"
    },
    "papermill": {
     "duration": 4.215343,
     "end_time": "2023-07-14T21:02:57.054328",
     "exception": false,
     "start_time": "2023-07-14T21:02:52.838985",
     "status": "completed"
    },
    "tags": []
   },
   "outputs": [],
   "source": [
    "sample_submission = pd.read_csv('/kaggle/input/playground-series-s3e19/sample_submission.csv')\n",
    "\n",
    "# Lista para armazenar as previsões de todos os modelos\n",
    "all_predictions = []\n",
    "\n",
    "# Loop pelos modelos treinados\n",
    "for model in best_model:\n",
    "    # Fazer previsões para o modelo atual\n",
    "    predictions = model.predict(df_test)\n",
    "\n",
    "    # Armazenar as previsões do modelo atual na lista\n",
    "    all_predictions.append(predictions)\n",
    "\n",
    "# Calcular a média das previsões de todos os modelos\n",
    "mean_predictions = np.mean(all_predictions, axis=0)\n",
    "\n",
    "# Substituir a segunda coluna do sample_submission pela média das previsões\n",
    "sample_submission.iloc[:, 1] = mean_predictions\n",
    "\n",
    "# Salvar o DataFrame em um arquivo CSV\n",
    "sample_submission.to_csv('submission.csv', index=False)"
   ]
  },
  {
   "cell_type": "code",
   "execution_count": null,
   "id": "ae97233f",
   "metadata": {
    "papermill": {
     "duration": 0.005184,
     "end_time": "2023-07-14T21:02:57.065245",
     "exception": false,
     "start_time": "2023-07-14T21:02:57.060061",
     "status": "completed"
    },
    "tags": []
   },
   "outputs": [],
   "source": []
  }
 ],
 "metadata": {
  "kernelspec": {
   "display_name": "Python 3",
   "language": "python",
   "name": "python3"
  },
  "language_info": {
   "codemirror_mode": {
    "name": "ipython",
    "version": 3
   },
   "file_extension": ".py",
   "mimetype": "text/x-python",
   "name": "python",
   "nbconvert_exporter": "python",
   "pygments_lexer": "ipython3",
   "version": "3.10.12"
  },
  "papermill": {
   "default_parameters": {},
   "duration": 957.520804,
   "end_time": "2023-07-14T21:02:58.297533",
   "environment_variables": {},
   "exception": null,
   "input_path": "__notebook__.ipynb",
   "output_path": "__notebook__.ipynb",
   "parameters": {},
   "start_time": "2023-07-14T20:47:00.776729",
   "version": "2.4.0"
  }
 },
 "nbformat": 4,
 "nbformat_minor": 5
}
